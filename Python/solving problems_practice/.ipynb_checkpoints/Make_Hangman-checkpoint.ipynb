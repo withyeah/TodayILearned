{
 "cells": [
  {
   "cell_type": "markdown",
   "metadata": {},
   "source": [
    "# 행맨 게임 만들기 "
   ]
  },
  {
   "cell_type": "markdown",
   "metadata": {},
   "source": [
    "## 답안 확인 하기\n",
    "\n",
    "> 행맨 게임을 위한 코드를 작성해봅시다. \n",
    ">\n",
    "> `isanswer(answer, letters)`는 정답 문자열(answer)과 추측 알파벳의 리스트(letters)를 받아서, True/False 결과를 반환합니다."
   ]
  },
  {
   "cell_type": "code",
   "execution_count": 1,
   "metadata": {},
   "outputs": [],
   "source": [
    "# 여기에 코드를 작성하세요.\n",
    "def isanswer(answer, letters):\n",
    "    return False if set(answer) - set(letters) else True\n",
    "    "
   ]
  },
  {
   "cell_type": "code",
   "execution_count": 3,
   "metadata": {
    "scrolled": true
   },
   "outputs": [
    {
     "data": {
      "text/plain": [
       "False"
      ]
     },
     "execution_count": 3,
     "metadata": {},
     "output_type": "execute_result"
    }
   ],
   "source": [
    "isanswer('apple', ['a', 'p', 'l']) #=> False\n",
    "isanswer('apple', ['a', 'p', 'l', 'e']) #=> True"
   ]
  },
  {
   "cell_type": "markdown",
   "metadata": {},
   "source": [
    "## 현재 상태 출력하기\n",
    "\n",
    "> 행맨 게임을 위한 코드를 작성해봅시다. \n",
    ">\n",
    "> `status(answer, letters)`는 정답 문자열(answer)과 추측 알파벳의 리스트(letters)를 받아서, 현재 결과를 반환합니다."
   ]
  },
  {
   "cell_type": "code",
   "execution_count": 8,
   "metadata": {},
   "outputs": [],
   "source": [
    "# replace\n",
    "def status(answer, letters):\n",
    "    return ''.join([i if i in letters else '_' for i in answer])\n",
    "#     ans = ''\n",
    "#     for i in answer:\n",
    "#         if i in letters:\n",
    "#             ans += i\n",
    "#         else:\n",
    "#             ans += '_'\n",
    "#     return ans"
   ]
  },
  {
   "cell_type": "code",
   "execution_count": 9,
   "metadata": {},
   "outputs": [
    {
     "data": {
      "text/plain": [
       "'appl_'"
      ]
     },
     "execution_count": 9,
     "metadata": {},
     "output_type": "execute_result"
    }
   ],
   "source": [
    "status('apple', ['a', 'p', 'l']) #=> 'appl_'"
   ]
  },
  {
   "cell_type": "markdown",
   "metadata": {},
   "source": [
    "## 행맨 로직 만들기 - 자유코딩!\n",
    "\n",
    "> 위의 코드를 활용하여 `hangman(answer)`를 만들어봅시다!\n",
    ">\n",
    "> 사용자가 답을 맞출 때까지 진행하며, 8번내로 정답을 맞춰야 합니다.\n"
   ]
  },
  {
   "cell_type": "code",
   "execution_count": 10,
   "metadata": {},
   "outputs": [],
   "source": [
    "def hangman(answer):\n",
    "    letters = []\n",
    "    for i in range(8):\n",
    "        letters.append(input())\n",
    "        if isanswer(answer, letters):\n",
    "            return f'{status(answer, letters)} 정답입니다!'\n",
    "        else:\n",
    "            print(f'현재 상태 : {status(answer, letters)}')\n",
    "            print(f'기회가 {7-i}번 남았습니다')\n",
    "    return f'{status(answer, letters)} 탈락입니다.'"
   ]
  },
  {
   "cell_type": "code",
   "execution_count": 12,
   "metadata": {},
   "outputs": [
    {
     "name": "stdout",
     "output_type": "stream",
     "text": [
      "q\n",
      "현재 상태 : _____\n",
      "기회가 7번 남았습니다\n",
      "w\n",
      "현재 상태 : _____\n",
      "기회가 6번 남았습니다\n",
      "e\n",
      "현재 상태 : ____e\n",
      "기회가 5번 남았습니다\n",
      "r\n",
      "현재 상태 : ____e\n",
      "기회가 4번 남았습니다\n",
      "t\n",
      "현재 상태 : ____e\n",
      "기회가 3번 남았습니다\n",
      "y\n",
      "현재 상태 : ____e\n",
      "기회가 2번 남았습니다\n",
      "u\n",
      "현재 상태 : ____e\n",
      "기회가 1번 남았습니다\n",
      "i\n",
      "현재 상태 : ____e\n",
      "기회가 0번 남았습니다\n"
     ]
    },
    {
     "data": {
      "text/plain": [
       "'____e 탈락입니다.'"
      ]
     },
     "execution_count": 12,
     "metadata": {},
     "output_type": "execute_result"
    }
   ],
   "source": [
    "hangman('apple')"
   ]
  },
  {
   "cell_type": "code",
   "execution_count": null,
   "metadata": {},
   "outputs": [],
   "source": []
  }
 ],
 "metadata": {
  "kernelspec": {
   "display_name": "Python 3",
   "language": "python",
   "name": "python3"
  },
  "language_info": {
   "codemirror_mode": {
    "name": "ipython",
    "version": 3
   },
   "file_extension": ".py",
   "mimetype": "text/x-python",
   "name": "python",
   "nbconvert_exporter": "python",
   "pygments_lexer": "ipython3",
   "version": "3.7.2"
  },
  "latex_envs": {
   "LaTeX_envs_menu_present": true,
   "autoclose": false,
   "autocomplete": true,
   "bibliofile": "biblio.bib",
   "cite_by": "apalike",
   "current_citInitial": 1,
   "eqLabelWithNumbers": true,
   "eqNumInitial": 1,
   "hotkeys": {
    "equation": "Ctrl-E",
    "itemize": "Ctrl-I"
   },
   "labels_anchors": false,
   "latex_user_defs": false,
   "report_style_numbering": false,
   "user_envs_cfg": false
  },
  "toc": {
   "base_numbering": 1,
   "nav_menu": {},
   "number_sections": true,
   "sideBar": true,
   "skip_h1_title": false,
   "title_cell": "Table of Contents",
   "title_sidebar": "Contents",
   "toc_cell": false,
   "toc_position": {},
   "toc_section_display": true,
   "toc_window_display": false
  }
 },
 "nbformat": 4,
 "nbformat_minor": 2
}
